{
 "cells": [
  {
   "cell_type": "markdown",
   "id": "d356f8d6",
   "metadata": {},
   "source": [
    "# MARS3888 - Finding and Using Online Datasets \n",
    "\n",
    "## Notebook 2\n",
    "\n",
    "\n",
    "+ Part A: Build multi-file NetCDF dataset\n",
    "    + Clip and Aggregate dataset\n",
    "    + Plot map from multi-file NetCDF dataset\n",
    "+ Part B: Extract data at specificed location from multi-file NetCDF dataset\n",
    "\n",
    "#### Load the required Python libraries\n",
    "\n",
    "First of all, load the necessary libraries:\n",
    "\n",
    "+ numpy\n",
    "+ matplotlib\n",
    "+ cartopy\n",
    "+ xarray\n",
    "+ cmocean\n"
   ]
  },
  {
   "cell_type": "code",
   "execution_count": null,
   "id": "0f621f01",
   "metadata": {},
   "outputs": [],
   "source": [
    "import os\n",
    "import numpy as np\n",
    "import xarray as xr\n",
    "\n",
    "import cartopy\n",
    "import cartopy.crs as ccrs\n",
    "import cartopy.feature as cfeature\n",
    "from cartopy.mpl.gridliner import LONGITUDE_FORMATTER, LATITUDE_FORMATTER\n",
    "cartopy.config['data_dir'] = os.getenv('CARTOPY_DIR', cartopy.config.get('data_dir'))\n",
    "\n",
    "import cmocean\n",
    "\n",
    "from matplotlib import pyplot as plt\n",
    "#%config InlineBackend.figure_format = 'retina'\n",
    "plt.ion()  # To trigger the interactive inline mode\n",
    "\n",
    "import warnings\n",
    "warnings.filterwarnings(\"ignore\", category=RuntimeWarning) "
   ]
  },
  {
   "cell_type": "markdown",
   "id": "2dd1b571",
   "metadata": {},
   "source": [
    "# Part A: Build multi-file NetCDF dataset"
   ]
  },
  {
   "cell_type": "markdown",
   "id": "cdefcea7",
   "metadata": {},
   "source": [
    "We will use the `open_mfdataset` function from `xArray` to open multiple netCDF files into a single xarray Dataset. \n",
    "\n",
    "+ Many datesets are separted into daily, monthly or even annual NetCDFs so being able to combine them makes it a lot easier to analyse or plot the data.\n",
    "\n",
    "We will query load the GBR4km dataset from the [AIMS server](http://thredds.ereefs.aims.gov.au/thredds/catalog.html), so let's first define the base URL:"
   ]
  },
  {
   "cell_type": "code",
   "execution_count": null,
   "id": "064fab25",
   "metadata": {},
   "outputs": [],
   "source": [
    "# For the bio dataset\n",
    "base_url = \"http://thredds.ereefs.aims.gov.au/thredds/dodsC/s3://aims-ereefs-public-prod/derived/ncaggregate/ereefs/GBR4_H2p0_B3p1_Cq3b_Dhnd/daily-monthly/EREEFS_AIMS-CSIRO_GBR4_H2p0_B3p1_Cq3b_Dhnd_bgc_daily-monthly-\"\n",
    "\n",
    "# For the hydro dataset\n",
    "base_url2 = \"http://thredds.ereefs.aims.gov.au/thredds/dodsC/s3://aims-ereefs-public-prod/derived/ncaggregate/ereefs/gbr4_v2/daily-monthly/EREEFS_AIMS-CSIRO_gbr4_v2_hydro_daily-monthly-\""
   ]
  },
  {
   "cell_type": "markdown",
   "id": "76f4e82d",
   "metadata": {},
   "source": [
    "For the sake of the demonstration, we will only use 1 month:"
   ]
  },
  {
   "cell_type": "code",
   "execution_count": 38,
   "id": "aae45364",
   "metadata": {},
   "outputs": [
    {
     "data": {
      "text/plain": [
       "['http://thredds.ereefs.aims.gov.au/thredds/dodsC/s3://aims-ereefs-public-prod/derived/ncaggregate/ereefs/GBR4_H2p0_B3p1_Cq3b_Dhnd/daily-monthly/EREEFS_AIMS-CSIRO_GBR4_H2p0_B3p1_Cq3b_Dhnd_bgc_daily-monthly-2018-01.nc']"
      ]
     },
     "execution_count": 38,
     "metadata": {},
     "output_type": "execute_result"
    }
   ],
   "source": [
    "month_st = 1   # Starting month \n",
    "month_ed = 1   # Ending month \n",
    "year = 2018    # Year\n",
    "\n",
    "# Based on the server the file naming convention \n",
    "biofiles = [f\"{base_url}{year}-{month:02}.nc\" for month in range(month_st, month_ed+1)]\n",
    "hydrofiles = [f\"{base_url2}{year}-{month:02}.nc\" for month in range(month_st, month_ed+1)]\n",
    "biofiles"
   ]
  },
  {
   "cell_type": "markdown",
   "id": "065843bd",
   "metadata": {},
   "source": [
    "## Loading dataset into xArray\n",
    "\n",
    "Using `xArray`, we open these files into a `Dataset`:"
   ]
  },
  {
   "cell_type": "code",
   "execution_count": null,
   "id": "5b0d2a60",
   "metadata": {},
   "outputs": [],
   "source": [
    "ds_bio = xr.open_mfdataset(biofiles)\n",
    "ds_hydro = xr.open_mfdataset(hydrofiles)\n",
    "ds_hydro"
   ]
  },
  {
   "cell_type": "markdown",
   "id": "3766a2b4",
   "metadata": {},
   "source": [
    "# Clip and Aggregate Dataset \n",
    "\n",
    "When working with large NetCDF files it is useful to know how to clip the data to an area or depth of interest.\n",
    "\n",
    "This part of the notebook is an extension of what we have done in Notebook 1."
   ]
  },
  {
   "cell_type": "markdown",
   "id": "06e30276",
   "metadata": {},
   "source": [
    "### Clip by Coordinates (X and Y)"
   ]
  },
  {
   "cell_type": "markdown",
   "id": "e392c2fe",
   "metadata": {},
   "source": [
    "To reduce the `Xarray Dataset` size we will clip the spatial extent based on longitudinal and latitudinal values.\n",
    "\n",
    "+ As we already saw this is easely done using the `sel` function with the slice method (see Notebook 1)."
   ]
  },
  {
   "cell_type": "code",
   "execution_count": null,
   "id": "734dd8cf",
   "metadata": {},
   "outputs": [],
   "source": [
    "min_lon = 150     # lower left longitude\n",
    "min_lat = -27     # lower left latitude\n",
    "max_lon = 155     # upper right longitude\n",
    "max_lat = -20     # upper right latitude\n",
    "\n",
    "# Defining the boundaries\n",
    "lon_bnds = [min_lon, max_lon]\n",
    "lat_bnds = [min_lat, max_lat]\n",
    "\n",
    "# Performing the reduction\n",
    "ds_hydro_clip = ds_hydro.sel(latitude=slice(*lat_bnds), longitude=slice(*lon_bnds))\n",
    "ds_hydro_clip"
   ]
  },
  {
   "cell_type": "markdown",
   "id": "023a961e",
   "metadata": {},
   "source": [
    "### Clip by Depth (Z)"
   ]
  },
  {
   "cell_type": "markdown",
   "id": "0d5e9062",
   "metadata": {},
   "source": [
    "For this example we will use the surface values (i.e. the last z-coordinate at -0.5 m), this is done by using `isel` function on the `Xarray Dataset`:"
   ]
  },
  {
   "cell_type": "code",
   "execution_count": null,
   "id": "bc4b875d",
   "metadata": {},
   "outputs": [],
   "source": [
    "zcvar = -1  # last z-coordinate at 0.5 m\n",
    "\n",
    "new_ds = ds_hydro_clip.isel(k=zcvar)\n",
    "new_ds"
   ]
  },
  {
   "cell_type": "markdown",
   "id": "029e1b06",
   "metadata": {},
   "source": [
    "# Aggregate Data using `Groupby` "
   ]
  },
  {
   "cell_type": "markdown",
   "id": "852734d8",
   "metadata": {},
   "source": [
    "Using `Groupby` ([more info here](https://pandas.pydata.org/docs/reference/api/pandas.DataFrame.groupby.html)) with time coordinates, we take the maximum of each data variables over a 2 weeks timeframe (‘2W’). We also reduce the Dataset to the following variables:\n",
    "\n",
    "+ ‘temp’,\n",
    "+ ‘mean_cur’,\n",
    "+ ‘u’, and\n",
    "+ ‘v’"
   ]
  },
  {
   "cell_type": "code",
   "execution_count": null,
   "id": "b67b225f",
   "metadata": {},
   "outputs": [],
   "source": [
    "week_ds = new_ds.resample(time='2W').max(dim='time').drop('zc')[['temp','mean_cur','u','v']]\n",
    "week_ds"
   ]
  },
  {
   "cell_type": "markdown",
   "id": "7df792ac",
   "metadata": {},
   "source": [
    "You now have the basic skills to open and reduce NetCDF files."
   ]
  },
  {
   "cell_type": "markdown",
   "id": "ba7a483a",
   "metadata": {},
   "source": [
    "# Plot map from multi-file NetCDF dataset"
   ]
  },
  {
   "cell_type": "markdown",
   "id": "8065e152",
   "metadata": {},
   "source": [
    "Using the `ds_hydro` Dataset lets plot a map of `ds_hydro.temp` for the first day in the dataset:"
   ]
  },
  {
   "cell_type": "code",
   "execution_count": null,
   "id": "3c1c3927",
   "metadata": {},
   "outputs": [],
   "source": [
    "# specify and check the date to plot\n",
    "day= 1 # change this value to the number index in `time`"
   ]
  },
  {
   "cell_type": "markdown",
   "id": "b352fd36",
   "metadata": {},
   "source": [
    "We want to plot a Marker for the location of One Tree Island:"
   ]
  },
  {
   "cell_type": "code",
   "execution_count": null,
   "id": "f30774db",
   "metadata": {},
   "outputs": [],
   "source": [
    "reef_lat = -23.508\n",
    "reef_lon = 152.091"
   ]
  },
  {
   "cell_type": "code",
   "execution_count": null,
   "id": "7b92d354",
   "metadata": {},
   "outputs": [],
   "source": [
    "# Figure size\n",
    "size = (9, 10)\n",
    "\n",
    "# Color from cmocean\n",
    "color = cmocean.cm.balance\n",
    "\n",
    "# Defining the figure\n",
    "fig = plt.figure(figsize=size, facecolor='w', edgecolor='k')\n",
    "\n",
    "# Axes with Cartopy projection\n",
    "ax = plt.axes(projection=ccrs.PlateCarree())\n",
    "# and extent\n",
    "ax.set_extent([142.4, 157, -7, -28.6], ccrs.PlateCarree())\n",
    "\n",
    "# Plotting using Matplotlib \n",
    "# We plot the Temp at the surface at the final recorded time interval\n",
    "cf = ds_hydro.temp.isel(time=day,k=-1).plot( \n",
    "    transform=ccrs.PlateCarree(), cmap=color,\n",
    "    vmin = 22, vmax = 32,\n",
    "    add_colorbar=False\n",
    ")\n",
    "\n",
    "# Color bar\n",
    "cbar = fig.colorbar(cf, ax=ax, fraction=0.027, pad=0.045, \n",
    "                    orientation=\"horizontal\")\n",
    "cbar.set_label(ds_hydro.temp.long_name+' '+ds_hydro.temp.units, rotation=0, \n",
    "               labelpad=5, fontsize=10)\n",
    "cbar.ax.tick_params(labelsize=8)\n",
    "\n",
    "# Title\n",
    "plt.title('Sea Surface Temperature (C) on ' +str(ds_hydro.coords['time'].values[day])[:10],\n",
    "          fontsize=11\n",
    "         )\n",
    "\n",
    "# Plot lat/lon grid \n",
    "gl = ax.gridlines(crs=ccrs.PlateCarree(), draw_labels=True,\n",
    "                  linewidth=0.1, color='k', alpha=1, \n",
    "                  linestyle='--')\n",
    "gl.top_labels = False\n",
    "gl.right_labels = False\n",
    "gl.xformatter = LONGITUDE_FORMATTER\n",
    "gl.yformatter = LATITUDE_FORMATTER\n",
    "gl.xlabel_style = {'size': 8}\n",
    "gl.ylabel_style = {'size': 8} \n",
    "\n",
    "# Add map features with Cartopy \n",
    "ax.add_feature(cfeature.NaturalEarthFeature('physical', 'land', '10m', \n",
    "                                            edgecolor='face', \n",
    "                                            facecolor='lightgray'))\n",
    "\n",
    "ax.coastlines(linewidth=1)\n",
    "\n",
    "# Site One Tree Island\n",
    "ax.scatter(reef_lon, reef_lat, c='deeppink', s=50, edgecolors='k', linewidth=1, transform=ccrs.PlateCarree())\n",
    "\n",
    "plt.tight_layout()\n",
    "plt.show()\n",
    "fig.clear()\n",
    "plt.close(fig)\n",
    "plt.clf()"
   ]
  },
  {
   "cell_type": "markdown",
   "id": "7d98fd2a",
   "metadata": {},
   "source": [
    "If you want to plot another day in the dataset you must change the `day` value"
   ]
  },
  {
   "cell_type": "markdown",
   "id": "2099d290",
   "metadata": {},
   "source": [
    "# Part B: Find closest xArray data for a reef location\n",
    "\n",
    "We will use One Tree Island position for the example"
   ]
  },
  {
   "cell_type": "code",
   "execution_count": null,
   "id": "852033b8",
   "metadata": {},
   "outputs": [],
   "source": [
    "reef_lat = -23.508\n",
    "reef_lon = 152.091"
   ]
  },
  {
   "cell_type": "markdown",
   "id": "f18f5738",
   "metadata": {},
   "source": [
    "Using the `sel` function and `nearest` method we extract the values of the variables close to our site:"
   ]
  },
  {
   "cell_type": "code",
   "execution_count": null,
   "id": "639b850f",
   "metadata": {},
   "outputs": [],
   "source": [
    "# Alkalinity\n",
    "alk = ds_bio.alk\n",
    "alk = alk.sel(longitude=reef_lon, latitude=reef_lat, method='nearest')\n",
    "\n",
    "# Mean current\n",
    "mean_cur = ds_hydro.mean_cur\n",
    "mean_cur = mean_cur.sel(longitude=reef_lon, latitude=reef_lat, method='nearest')"
   ]
  },
  {
   "cell_type": "markdown",
   "id": "63495d3e",
   "metadata": {},
   "source": [
    "Let's check where the closest point is located in the eReefs dataset to One Tree Island:"
   ]
  },
  {
   "cell_type": "code",
   "execution_count": null,
   "id": "cd901f88",
   "metadata": {},
   "outputs": [],
   "source": [
    "lat = alk.latitude.values.item(0)\n",
    "lon = alk.longitude.values.item(0)\n",
    "\n",
    "print('Nearest position: ',lon,lat)"
   ]
  },
  {
   "cell_type": "markdown",
   "id": "4feaca3c",
   "metadata": {},
   "source": [
    "We then load the `Xarray Dataset` in memory:\n",
    "\n",
    "This may take a while to load:"
   ]
  },
  {
   "cell_type": "code",
   "execution_count": null,
   "id": "2531f5bc",
   "metadata": {},
   "outputs": [],
   "source": [
    "load_alk = alk.load()\n",
    "load_curr = mean_cur.load()"
   ]
  },
  {
   "cell_type": "markdown",
   "id": "5946e360",
   "metadata": {},
   "source": [
    "# Plot timeseries of eReef data from closest Xarray data point to One Tree\n",
    "\n",
    "We will use the `Xarray` `plot` function."
   ]
  },
  {
   "cell_type": "markdown",
   "id": "8e6645bb",
   "metadata": {},
   "source": [
    "Plot alkalinity at One Tree Island:"
   ]
  },
  {
   "cell_type": "code",
   "execution_count": null,
   "id": "3b83e459",
   "metadata": {},
   "outputs": [],
   "source": [
    "fig, ax = plt.subplots(figsize=(12, 5))\n",
    "\n",
    "n = load_alk.zc.shape[0]  # Number of z-coordinate\n",
    "\n",
    "# Colormap from cmocean discretized based on zc number \n",
    "colors = cmocean.cm.matter(np.linspace(0,1,n))\n",
    "\n",
    "# We use matplotlib-backed plotting interface to get\n",
    "# the alkalinity evolution over time for each z-coordinate\n",
    "for zc in range(n):\n",
    "    load_alk.isel(k=zc).plot(ax=ax, x='time', lw=3, \n",
    "                             color=colors[zc], \n",
    "                             label='zc='+str(load_alk.zc.item(zc))+' m')\n",
    "\n",
    "# Add legend\n",
    "ax.legend(\n",
    "    bbox_to_anchor=(1.05, 1), loc='upper left', \n",
    "    fontsize=10, frameon=False\n",
    ")\n",
    "\n",
    "# Define x/y axis\n",
    "ax.set_xlim(min(load_alk.time.values),max(load_alk.time.values))\n",
    "ax.set_ylabel(load_alk.long_name+' in '+load_alk.units, style=\"italic\", fontsize=12)\n",
    "ax.set_xlabel(\"Date\", fontsize=12)\n",
    "\n",
    "ax.grid(True, linewidth=0.5, color=\"k\", alpha=0.1, linestyle=\"-\")\n",
    "ax.tick_params(labelcolor=\"k\", labelsize=\"medium\", width=3)\n",
    "plt.title('eReefs total alkalinity at One Tree Reef for variable depths', fontsize=13)\n",
    "\n",
    "plt.tight_layout()"
   ]
  },
  {
   "cell_type": "markdown",
   "id": "e7d8a8c5",
   "metadata": {},
   "source": [
    "Plot currents at One Tree Island:"
   ]
  },
  {
   "cell_type": "code",
   "execution_count": null,
   "id": "448e9db9",
   "metadata": {},
   "outputs": [],
   "source": [
    "fig, ax = plt.subplots(figsize=(12, 5))\n",
    "\n",
    "n = load_curr.zc.shape[0]  # Number of z-coordinate\n",
    "\n",
    "# Colormap from cmocean discretized based on zc number \n",
    "colors = cmocean.cm.matter(np.linspace(0,1,n))\n",
    "\n",
    "# We use matplotlib-backed plotting interface to get\n",
    "# the alkalinity evolution over time for each z-coordinate\n",
    "for zc in range(n):\n",
    "    load_curr.isel(k=zc).plot(ax=ax, x='time', lw=3, \n",
    "                             color=colors[zc], \n",
    "                             label='zc='+str(load_curr.zc.item(zc))+' m')\n",
    "\n",
    "# Add legend\n",
    "ax.legend(\n",
    "    bbox_to_anchor=(1.05, 1), loc='upper left', \n",
    "    fontsize=10, frameon=False\n",
    ")\n",
    "\n",
    "# Define x/y axis\n",
    "ax.set_xlim(min(load_curr.time.values),max(load_curr.time.values))\n",
    "ax.set_ylabel(load_curr.long_name+' in '+load_curr.units, style=\"italic\", fontsize=12)\n",
    "ax.set_xlabel(\"Date\", fontsize=12)\n",
    "\n",
    "ax.grid(True, linewidth=0.5, color=\"k\", alpha=0.1, linestyle=\"-\")\n",
    "ax.tick_params(labelcolor=\"k\", labelsize=\"medium\", width=3)\n",
    "plt.title('eReefs currents at One Tree Reef for variable depths', fontsize=13)\n",
    "\n",
    "plt.tight_layout()"
   ]
  },
  {
   "cell_type": "markdown",
   "id": "3a4c5c53",
   "metadata": {},
   "source": [
    "Now you know the basics of reading and plotting multi-file NetCDF data.\n",
    "\n",
    "### End of Notebook 2"
   ]
  }
 ],
 "metadata": {
  "celltoolbar": "Raw Cell Format",
  "kernelspec": {
   "display_name": "Python 3 (ipykernel)",
   "language": "python",
   "name": "python3"
  },
  "language_info": {
   "codemirror_mode": {
    "name": "ipython",
    "version": 3
   },
   "file_extension": ".py",
   "mimetype": "text/x-python",
   "name": "python",
   "nbconvert_exporter": "python",
   "pygments_lexer": "ipython3",
   "version": "3.9.16"
  }
 },
 "nbformat": 4,
 "nbformat_minor": 5
}
